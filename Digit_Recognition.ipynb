{
  "nbformat": 4,
  "nbformat_minor": 0,
  "metadata": {
    "colab": {
      "provenance": [],
      "include_colab_link": true
    },
    "kernelspec": {
      "name": "python3",
      "display_name": "Python 3"
    },
    "language_info": {
      "name": "python"
    }
  },
  "cells": [
    {
      "cell_type": "markdown",
      "metadata": {
        "id": "view-in-github",
        "colab_type": "text"
      },
      "source": [
        "<a href=\"https://colab.research.google.com/github/Nguyen-Phuong-Anh/digit_recognition/blob/main/Digit_Recognition.ipynb\" target=\"_parent\"><img src=\"https://colab.research.google.com/assets/colab-badge.svg\" alt=\"Open In Colab\"/></a>"
      ]
    },
    {
      "cell_type": "code",
      "execution_count": null,
      "metadata": {
        "id": "pwkdTk0ejvex"
      },
      "outputs": [],
      "source": [
        "# Import necessary libraries\n",
        "import numpy as np\n",
        "import pandas as pd\n",
        "from matplotlib import pyplot as plt"
      ]
    },
    {
      "cell_type": "code",
      "source": [
        "# Load and preprocess the dataset\n",
        "dataset = pd.read_csv('train.csv')\n",
        "dataset = np.array(dataset)\n",
        "num_examples, num_features = dataset.shape\n",
        "np.random.shuffle(dataset)\n",
        "\n",
        "# Split the dataset into dev and train sets\n",
        "dev_data = dataset[0:1000].T\n",
        "dev_labels = dev_data[0]\n",
        "dev_features = dev_data[1:num_features]\n",
        "dev_features = dev_features / 255.\n",
        "\n",
        "train_data = dataset[1000:num_examples].T\n",
        "train_labels = train_data[0]\n",
        "train_features = train_data[1:num_features]\n",
        "train_features = train_features / 255.\n",
        "_,num_train_examples = train_features.shape"
      ],
      "metadata": {
        "id": "jz0jKAxxkXak"
      },
      "execution_count": null,
      "outputs": []
    },
    {
      "cell_type": "code",
      "source": [
        "# Define the Neural Network class\n",
        "class NeuralNetwork:\n",
        "    def __init__(self, train_features, train_labels):\n",
        "        self.train_features = train_features\n",
        "        self.train_labels = train_labels\n",
        "        self.W1, self.b1, self.W2, self.b2 = self.initialize_parameters()\n",
        "\n",
        "    # Initialize parameters\n",
        "    def initialize_parameters(self):\n",
        "        W1 = np.random.rand(10, 784) - 0.5\n",
        "        b1 = np.random.rand(10, 1) - 0.5\n",
        "        W2 = np.random.rand(10, 10) - 0.5\n",
        "        b2 = np.random.rand(10, 1) - 0.5\n",
        "        return W1, b1, W2, b2\n",
        "\n",
        "    # Define activation functions and their derivatives\n",
        "    def sigmoid_activation(self, Z):\n",
        "        return 1 / (1 + np.exp(-Z))\n",
        "\n",
        "    def sigmoid_derivative(self, Z):\n",
        "        s = self.sigmoid_activation(Z)\n",
        "        return s * (1 - s)\n",
        "\n",
        "    def softmax_activation(self, Z):\n",
        "        A = np.exp(Z) / sum(np.exp(Z))\n",
        "        return A\n",
        "\n",
        "    # Forward propagation\n",
        "    def forward_propagation(self, X):\n",
        "        Z1 = self.W1.dot(X) + self.b1\n",
        "        A1 = self.sigmoid_activation(Z1)\n",
        "        Z2 = self.W2.dot(A1) + self.b2\n",
        "        A2 = self.softmax_activation(Z2)\n",
        "        return Z1, A1, Z2, A2\n",
        "\n",
        "    # One-hot encoding for labels\n",
        "    def one_hot_encoding(self, Y):\n",
        "        Y = Y.astype(int)  # convert Y to integer type\n",
        "        one_hot_Y = np.zeros((Y.size, int(Y.max()) + 1))\n",
        "        one_hot_Y[np.arange(Y.size), Y] = 1\n",
        "        one_hot_Y = one_hot_Y.T\n",
        "        return one_hot_Y\n",
        "\n",
        "    # Backward propagation\n",
        "    def backward_propagation(self, Z1, A1, Z2, A2, X, Y):\n",
        "        m = Y.size  # add this line to define m\n",
        "        one_hot_Y = self.one_hot_encoding(Y)\n",
        "        dZ2 = A2 - one_hot_Y\n",
        "        dW2 = 1 / m * dZ2.dot(A1.T)\n",
        "        db2 = 1 / m * np.sum(dZ2)\n",
        "        dZ1 = self.W2.T.dot(dZ2) * self.sigmoid_derivative(Z1)\n",
        "        dW1 = 1 / m * dZ1.dot(X.T)\n",
        "        db1 = 1 / m * np.sum(dZ1)\n",
        "        return dW1, db1, dW2, db2\n",
        "\n",
        "    # Update parameters\n",
        "    def update_parameters(self, dW1, db1, dW2, db2, alpha):\n",
        "        self.W1 = self.W1 - alpha * dW1\n",
        "        self.b1 = self.b1 - alpha * db1\n",
        "        self.W2 = self.W2 - alpha * dW2\n",
        "        self.b2 = self.b2 - alpha * db2\n",
        "\n",
        "    # Make predictions\n",
        "    def predict(self, A2):\n",
        "        return np.argmax(A2, 0)\n",
        "\n",
        "    # Compute accuracy\n",
        "    def compute_accuracy(self, predictions, Y):\n",
        "        print(predictions, Y)\n",
        "        return np.sum(predictions == Y) / Y.size\n",
        "\n",
        "    # Train the model\n",
        "    def train(self, alpha, iterations):\n",
        "        for i in range(iterations):\n",
        "            Z1, A1, Z2, A2 = self.forward_propagation(self.train_features)\n",
        "            dW1, db1, dW2, db2 = self.backward_propagation(Z1, A1, Z2, A2, self.train_features, self.train_labels)\n",
        "            self.update_parameters(dW1, db1, dW2, db2, alpha)\n",
        "            if i % 10 == 0:\n",
        "                print(\"Iteration: \", i)\n",
        "                predictions = self.predict(A2)\n",
        "                print(self.compute_accuracy(predictions, self.train_labels))\n",
        "\n",
        "    # Make predictions\n",
        "    def make_predictions(self, X):\n",
        "        _, _, _, A2 = self.forward_propagation(X)\n",
        "        predictions = self.predict(A2)\n",
        "        return predictions\n",
        "\n",
        "    # Test a prediction\n",
        "    def test_prediction(self, index):\n",
        "        current_image = self.train_features[:, index, None]\n",
        "        prediction = self.make_predictions(self.train_features[:, index, None])\n",
        "        label = self.train_labels[index]\n",
        "        print(\"Prediction: \", prediction)\n",
        "        print(\"Label: \", label)\n",
        "\n",
        "        current_image = current_image.reshape((28, 28)) * 255\n",
        "        plt.gray()\n",
        "        plt.imshow(current_image, interpolation='nearest')\n",
        "        plt.show()"
      ],
      "metadata": {
        "id": "C6eRrlQPkiD8"
      },
      "execution_count": null,
      "outputs": []
    },
    {
      "cell_type": "code",
      "source": [
        "# Instantiate and train the model\n",
        "nn = NeuralNetwork(train_features, train_labels)\n",
        "nn.train(0.10, 500)"
      ],
      "metadata": {
        "colab": {
          "base_uri": "https://localhost:8080/"
        },
        "id": "5-vzHdVdk7g-",
        "outputId": "4ce4fd28-a027-45d6-9486-455975ef6b75"
      },
      "execution_count": null,
      "outputs": [
        {
          "output_type": "stream",
          "name": "stdout",
          "text": [
            "Iteration:  0\n",
            "[2 2 2 ... 0 2 2] [1 0 8 ... 4 5 2]\n",
            "0.12060975609756097\n",
            "Iteration:  10\n",
            "[2 2 2 ... 0 2 2] [1 0 8 ... 4 5 2]\n",
            "0.13429268292682928\n",
            "Iteration:  20\n",
            "[2 4 2 ... 0 2 2] [1 0 8 ... 4 5 2]\n",
            "0.14853658536585365\n",
            "Iteration:  30\n",
            "[2 4 2 ... 0 9 2] [1 0 8 ... 4 5 2]\n",
            "0.16158536585365854\n",
            "Iteration:  40\n",
            "[2 4 2 ... 0 9 2] [1 0 8 ... 4 5 2]\n",
            "0.17946341463414633\n",
            "Iteration:  50\n",
            "[2 4 2 ... 0 9 2] [1 0 8 ... 4 5 2]\n",
            "0.19878048780487806\n",
            "Iteration:  60\n",
            "[2 4 2 ... 0 9 2] [1 0 8 ... 4 5 2]\n",
            "0.22121951219512195\n",
            "Iteration:  70\n",
            "[2 0 1 ... 0 9 2] [1 0 8 ... 4 5 2]\n",
            "0.25314634146341464\n",
            "Iteration:  80\n",
            "[2 0 1 ... 0 9 2] [1 0 8 ... 4 5 2]\n",
            "0.28885365853658534\n",
            "Iteration:  90\n",
            "[2 0 1 ... 4 9 2] [1 0 8 ... 4 5 2]\n",
            "0.32134146341463415\n",
            "Iteration:  100\n",
            "[2 0 1 ... 4 9 2] [1 0 8 ... 4 5 2]\n",
            "0.35153658536585364\n",
            "Iteration:  110\n",
            "[2 0 1 ... 4 9 2] [1 0 8 ... 4 5 2]\n",
            "0.3810487804878049\n",
            "Iteration:  120\n",
            "[1 0 1 ... 4 9 2] [1 0 8 ... 4 5 2]\n",
            "0.4090731707317073\n",
            "Iteration:  130\n",
            "[1 0 1 ... 4 9 2] [1 0 8 ... 4 5 2]\n",
            "0.43429268292682927\n",
            "Iteration:  140\n",
            "[1 0 1 ... 4 9 1] [1 0 8 ... 4 5 2]\n",
            "0.4583658536585366\n",
            "Iteration:  150\n",
            "[1 0 1 ... 4 9 1] [1 0 8 ... 4 5 2]\n",
            "0.47878048780487803\n",
            "Iteration:  160\n",
            "[1 0 8 ... 4 3 1] [1 0 8 ... 4 5 2]\n",
            "0.49617073170731707\n",
            "Iteration:  170\n",
            "[1 0 8 ... 4 3 1] [1 0 8 ... 4 5 2]\n",
            "0.510390243902439\n",
            "Iteration:  180\n",
            "[1 0 8 ... 4 3 1] [1 0 8 ... 4 5 2]\n",
            "0.521390243902439\n",
            "Iteration:  190\n",
            "[1 0 8 ... 4 3 1] [1 0 8 ... 4 5 2]\n",
            "0.5299512195121951\n",
            "Iteration:  200\n",
            "[1 0 8 ... 4 3 1] [1 0 8 ... 4 5 2]\n",
            "0.5383170731707317\n",
            "Iteration:  210\n",
            "[1 0 8 ... 4 3 1] [1 0 8 ... 4 5 2]\n",
            "0.5461463414634147\n",
            "Iteration:  220\n",
            "[1 0 8 ... 4 3 1] [1 0 8 ... 4 5 2]\n",
            "0.5533658536585366\n",
            "Iteration:  230\n",
            "[1 0 8 ... 4 3 1] [1 0 8 ... 4 5 2]\n",
            "0.5597073170731708\n",
            "Iteration:  240\n",
            "[1 0 8 ... 4 3 1] [1 0 8 ... 4 5 2]\n",
            "0.5666341463414634\n",
            "Iteration:  250\n",
            "[1 0 8 ... 4 3 1] [1 0 8 ... 4 5 2]\n",
            "0.5728780487804878\n",
            "Iteration:  260\n",
            "[1 0 8 ... 4 3 1] [1 0 8 ... 4 5 2]\n",
            "0.5796097560975609\n",
            "Iteration:  270\n",
            "[1 0 8 ... 4 3 1] [1 0 8 ... 4 5 2]\n",
            "0.5860975609756097\n",
            "Iteration:  280\n",
            "[1 0 8 ... 4 3 1] [1 0 8 ... 4 5 2]\n",
            "0.5917073170731707\n",
            "Iteration:  290\n",
            "[1 0 8 ... 4 3 1] [1 0 8 ... 4 5 2]\n",
            "0.5977317073170731\n",
            "Iteration:  300\n",
            "[1 0 8 ... 4 5 1] [1 0 8 ... 4 5 2]\n",
            "0.6033414634146341\n",
            "Iteration:  310\n",
            "[1 0 8 ... 4 5 1] [1 0 8 ... 4 5 2]\n",
            "0.6094390243902439\n",
            "Iteration:  320\n",
            "[1 0 8 ... 4 5 1] [1 0 8 ... 4 5 2]\n",
            "0.6146341463414634\n",
            "Iteration:  330\n",
            "[1 0 8 ... 4 5 1] [1 0 8 ... 4 5 2]\n",
            "0.6201463414634146\n",
            "Iteration:  340\n",
            "[1 0 8 ... 4 5 1] [1 0 8 ... 4 5 2]\n",
            "0.6260731707317073\n",
            "Iteration:  350\n",
            "[1 0 8 ... 4 5 1] [1 0 8 ... 4 5 2]\n",
            "0.6315121951219512\n",
            "Iteration:  360\n",
            "[1 0 8 ... 4 5 1] [1 0 8 ... 4 5 2]\n",
            "0.6369512195121951\n",
            "Iteration:  370\n",
            "[1 0 8 ... 4 5 1] [1 0 8 ... 4 5 2]\n",
            "0.6419268292682927\n",
            "Iteration:  380\n",
            "[1 0 8 ... 4 5 1] [1 0 8 ... 4 5 2]\n",
            "0.6467804878048781\n",
            "Iteration:  390\n",
            "[1 0 8 ... 4 5 1] [1 0 8 ... 4 5 2]\n",
            "0.6515121951219512\n",
            "Iteration:  400\n",
            "[1 0 8 ... 4 5 1] [1 0 8 ... 4 5 2]\n",
            "0.6567804878048781\n",
            "Iteration:  410\n",
            "[1 0 8 ... 4 5 1] [1 0 8 ... 4 5 2]\n",
            "0.6618780487804878\n",
            "Iteration:  420\n",
            "[1 0 8 ... 4 5 1] [1 0 8 ... 4 5 2]\n",
            "0.6670731707317074\n",
            "Iteration:  430\n",
            "[1 0 8 ... 4 5 1] [1 0 8 ... 4 5 2]\n",
            "0.6726829268292683\n",
            "Iteration:  440\n",
            "[1 0 8 ... 4 5 1] [1 0 8 ... 4 5 2]\n",
            "0.6775853658536586\n",
            "Iteration:  450\n",
            "[1 0 8 ... 4 5 1] [1 0 8 ... 4 5 2]\n",
            "0.6822926829268293\n",
            "Iteration:  460\n",
            "[1 0 8 ... 4 5 2] [1 0 8 ... 4 5 2]\n",
            "0.6869756097560976\n",
            "Iteration:  470\n",
            "[1 0 8 ... 4 5 2] [1 0 8 ... 4 5 2]\n",
            "0.6911463414634146\n",
            "Iteration:  480\n",
            "[1 0 8 ... 4 5 2] [1 0 8 ... 4 5 2]\n",
            "0.6959024390243902\n",
            "Iteration:  490\n",
            "[1 0 8 ... 4 5 2] [1 0 8 ... 4 5 2]\n",
            "0.7007317073170731\n"
          ]
        }
      ]
    },
    {
      "cell_type": "code",
      "source": [
        "# Test predictions\n",
        "nn.test_prediction(0)\n",
        "nn.test_prediction(1)\n",
        "nn.test_prediction(2)\n",
        "nn.test_prediction(3)"
      ],
      "metadata": {
        "colab": {
          "base_uri": "https://localhost:8080/",
          "height": 1000
        },
        "id": "GASMN9Vvk-Zq",
        "outputId": "ab047dd1-94f4-45b1-d417-47a8923d1435"
      },
      "execution_count": null,
      "outputs": [
        {
          "output_type": "stream",
          "name": "stdout",
          "text": [
            "Prediction:  [1]\n",
            "Label:  1\n"
          ]
        },
        {
          "output_type": "display_data",
          "data": {
            "text/plain": [
              "<Figure size 640x480 with 1 Axes>"
            ],
            "image/png": "[encoded data removed]"
          },
          "metadata": {}
        },
        {
          "output_type": "stream",
          "name": "stdout",
          "text": [
            "Prediction:  [0]\n",
            "Label:  0\n"
          ]
        },
        {
          "output_type": "display_data",
          "data": {
            "text/plain": [
              "<Figure size 640x480 with 1 Axes>"
            ],
            "image/png": "[encoded data removed]"
          },
          "metadata": {}
        },
        {
          "output_type": "stream",
          "name": "stdout",
          "text": [
            "Prediction:  [8]\n",
            "Label:  8\n"
          ]
        },
        {
          "output_type": "display_data",
          "data": {
            "text/plain": [
              "<Figure size 640x480 with 1 Axes>"
            ],
            "image/png": "[encoded data removed]"
          },
          "metadata": {}
        },
        {
          "output_type": "stream",
          "name": "stdout",
          "text": [
            "Prediction:  [8]\n",
            "Label:  8\n"
          ]
        },
        {
          "output_type": "display_data",
          "data": {
            "text/plain": [
              "<Figure size 640x480 with 1 Axes>"
            ],
            "image/png": "[encoded data removed]"
          },
          "metadata": {}
        }
      ]
    },
    {
      "cell_type": "code",
      "source": [
        "# Make predictions on the dev set\n",
        "dev_predictions = nn.make_predictions(dev_features)\n",
        "\n",
        "# Compute accuracy on the dev set\n",
        "dev_accuracy = nn.compute_accuracy(dev_predictions, dev_labels)\n",
        "print(\"Dev set accuracy: \", dev_accuracy)"
      ],
      "metadata": {
        "colab": {
          "base_uri": "https://localhost:8080/"
        },
        "id": "lio9XfQWlAxt",
        "outputId": "c09cf5ac-cf2c-478d-9f81-b20cd8fc5200"
      },
      "execution_count": null,
      "outputs": [
        {
          "output_type": "stream",
          "name": "stdout",
          "text": [
            "[0 3 2 1 9 1 0 3 0 4 8 1 9 7 6 8 3 3 1 9 8 6 0 4 1 0 9 9 2 0 1 9 6 1 0 1 3\n",
            " 1 1 2 6 9 3 1 3 7 4 9 9 0 2 4 6 8 9 2 2 3 2 6 0 1 1 6 1 0 7 0 0 0 6 6 2 6\n",
            " 3 0 1 2 0 3 7 4 3 7 9 7 1 1 6 7 8 9 9 9 1 3 6 2 9 0 7 7 2 0 0 1 2 4 7 7 7\n",
            " 9 6 6 0 9 0 4 7 2 1 1 6 0 5 5 1 3 9 2 6 6 8 9 2 1 8 4 9 4 7 9 6 1 3 3 4 2\n",
            " 2 7 4 6 4 6 9 9 1 0 1 7 4 9 7 9 0 9 1 8 9 3 0 9 1 0 1 9 7 7 3 2 4 7 3 0 0\n",
            " 8 6 1 7 3 6 6 2 8 1 2 9 2 0 1 6 4 9 0 2 4 2 6 3 9 6 7 7 7 1 1 7 0 1 9 4 0\n",
            " 3 3 8 7 1 4 0 9 1 1 0 1 9 6 8 9 3 3 1 4 0 0 3 6 2 8 4 2 9 9 4 6 6 0 0 6 9\n",
            " 2 0 5 6 6 8 4 6 7 7 9 2 9 1 8 6 7 5 9 9 7 1 3 2 4 6 9 7 0 1 3 1 7 6 0 4 9\n",
            " 2 7 4 8 6 1 6 3 4 7 6 9 2 3 9 4 7 7 0 2 2 1 3 9 4 9 4 9 9 3 8 1 5 1 0 1 5\n",
            " 7 7 3 2 7 4 3 7 3 3 3 1 6 1 0 1 2 3 9 4 1 0 2 1 6 3 9 9 4 9 4 3 1 5 2 9 0\n",
            " 3 0 6 3 6 4 2 3 1 0 4 6 8 0 7 3 6 1 8 1 1 9 1 4 6 0 6 1 0 7 0 4 1 6 2 1 3\n",
            " 0 1 8 3 2 1 3 1 7 9 2 7 4 1 7 1 7 2 5 5 0 0 2 5 3 0 3 2 9 1 1 1 9 1 6 2 6\n",
            " 9 1 3 3 5 4 7 0 3 9 7 3 7 9 6 2 0 9 7 7 7 4 1 8 3 8 2 4 1 8 1 3 8 4 2 3 3\n",
            " 0 2 3 0 0 4 0 3 6 9 4 2 1 6 0 7 3 4 1 0 4 1 1 6 4 1 0 1 9 4 9 1 9 1 1 6 4\n",
            " 6 1 0 6 0 0 7 7 1 6 1 4 5 3 5 1 9 9 9 1 1 1 9 0 2 6 3 3 3 3 9 7 2 1 6 9 7\n",
            " 2 9 2 9 7 0 7 7 1 7 9 1 0 1 8 1 0 6 4 9 1 1 9 6 7 5 7 4 0 4 7 1 6 8 7 2 3\n",
            " 8 7 4 1 8 6 0 3 1 1 6 7 3 3 9 2 6 7 3 7 0 2 0 4 1 3 8 3 8 3 9 1 1 0 9 3 1\n",
            " 3 7 6 1 6 6 0 6 3 1 7 6 3 1 6 6 6 0 1 1 6 1 0 9 4 6 7 1 1 9 3 9 9 3 5 9 1\n",
            " 3 7 1 6 0 1 3 3 3 2 0 1 8 7 9 1 1 9 0 6 9 9 4 6 7 9 0 9 1 2 1 2 7 8 1 2 3\n",
            " 9 0 9 3 9 7 8 0 6 4 3 9 4 6 8 3 2 3 7 3 3 2 4 0 0 0 2 9 9 4 5 8 6 7 4 3 8\n",
            " 1 1 4 3 2 6 7 7 2 8 6 0 5 9 3 9 5 6 4 2 6 5 3 9 0 3 7 7 7 2 3 4 8 1 1 7 8\n",
            " 2 7 5 5 1 9 2 0 7 0 1 8 9 7 9 3 4 6 3 9 0 6 9 9 4 1 2 8 3 7 9 0 2 6 8 9 7\n",
            " 6 1 6 1 3 8 7 4 3 9 1 7 7 8 4 6 9 1 4 6 9 7 5 0 0 2 7 1 7 2 5 4 1 6 2 6 9\n",
            " 7 3 1 8 7 9 8 1 0 1 3 1 8 8 1 0 7 7 1 8 0 9 2 7 1 6 8 9 3 3 4 0 6 6 3 7 0\n",
            " 6 3 4 2 7 4 3 9 1 9 0 9 2 6 2 0 9 2 3 0 3 3 9 8 3 9 8 9 1 0 7 8 8 7 3 6 1\n",
            " 6 3 6 7 3 9 4 3 6 1 3 0 1 6 4 0 3 7 7 4 8 9 0 3 0 1 4 9 7 4 6 6 9 9 0 9 3\n",
            " 7 7 0 2 6 3 2 1 9 1 3 2 4 8 4 7 0 4 0 9 1 6 1 6 6 4 3 3 3 9 7 9 3 1 6 1 1\n",
            " 9] [0 3 2 1 9 1 0 5 5 4 8 6 9 9 6 8 3 3 1 9 8 6 0 4 1 5 8 9 2 6 1 9 6 8 0 1 3\n",
            " 2 1 2 6 9 5 7 3 7 4 4 9 0 2 4 2 8 7 2 2 3 2 6 0 1 1 6 1 0 7 0 0 0 6 6 2 6\n",
            " 3 0 2 2 0 2 7 5 8 7 4 7 1 1 6 7 8 9 8 9 2 3 6 2 9 0 7 7 5 0 0 8 2 4 4 7 7\n",
            " 9 8 6 0 9 0 2 7 2 1 2 6 0 5 5 1 8 4 2 6 6 8 5 8 1 8 4 9 9 7 4 6 7 3 5 4 2\n",
            " 2 7 4 6 4 2 9 9 1 0 1 7 4 9 9 9 0 4 1 8 8 5 9 9 8 0 1 9 7 9 5 2 4 3 3 0 0\n",
            " 8 6 8 8 3 6 6 8 8 1 2 9 2 0 2 5 6 9 0 2 9 5 6 3 9 6 8 7 3 1 5 7 0 1 9 4 0\n",
            " 3 3 8 9 1 4 0 8 7 1 0 8 9 8 2 9 3 9 1 2 0 0 3 6 2 3 4 2 4 5 9 6 6 0 0 6 9\n",
            " 2 0 5 6 6 8 4 2 7 7 3 2 4 1 3 6 9 5 9 8 7 1 3 2 4 6 5 7 2 1 3 1 7 6 0 4 4\n",
            " 2 7 4 8 6 2 6 3 4 7 8 8 2 3 9 4 7 5 0 2 2 2 8 9 2 4 9 4 9 5 7 1 5 1 0 1 8\n",
            " 7 7 5 2 7 4 3 9 3 3 3 1 6 1 0 1 2 3 9 4 1 0 2 1 6 3 9 9 2 9 4 3 5 5 0 5 0\n",
            " 0 8 6 3 6 4 2 2 1 5 9 5 8 0 7 3 6 1 8 2 2 9 8 9 6 0 5 1 0 7 0 4 1 6 3 1 3\n",
            " 0 1 8 3 2 1 3 5 7 9 2 7 4 2 7 5 5 2 5 5 5 0 2 9 5 0 3 3 4 1 6 1 4 1 6 2 6\n",
            " 4 8 3 3 5 4 7 0 5 4 7 3 7 4 5 2 0 9 3 7 7 4 1 8 5 3 6 4 1 8 8 5 3 7 2 8 3\n",
            " 0 2 3 0 0 9 0 5 8 4 4 5 1 2 0 7 0 9 1 2 4 1 1 1 5 5 0 1 4 4 9 2 9 1 1 6 4\n",
            " 6 1 0 6 5 3 7 8 1 6 1 4 5 5 5 8 9 4 9 1 1 1 8 0 2 6 3 3 5 8 8 7 2 1 6 9 7\n",
            " 2 9 2 4 9 0 7 7 1 3 4 8 0 8 8 1 0 6 2 9 1 1 4 6 5 5 9 4 7 4 7 1 6 3 1 2 3\n",
            " 8 7 4 2 8 6 0 3 1 7 6 7 2 0 9 2 2 9 3 3 0 2 4 4 1 8 8 3 2 5 7 1 1 0 9 3 1\n",
            " 3 9 6 1 6 9 7 6 0 8 7 6 3 1 6 6 6 6 7 1 6 2 3 7 3 6 7 1 1 9 5 9 8 2 5 9 1\n",
            " 3 7 1 6 5 2 5 3 5 8 0 1 8 7 9 1 1 7 3 2 9 9 4 6 7 9 0 9 8 2 1 3 7 3 1 2 5\n",
            " 4 0 9 2 9 7 8 0 2 4 3 4 9 6 9 3 2 5 7 3 3 2 4 0 0 0 2 4 4 6 5 3 6 7 4 0 3\n",
            " 1 1 9 5 8 2 7 7 2 8 6 3 5 3 3 9 5 6 4 2 6 1 3 9 8 3 2 7 7 2 5 4 3 1 7 7 8\n",
            " 5 3 3 5 1 4 2 0 7 0 1 8 7 7 9 5 4 5 1 9 0 0 8 4 9 1 2 3 5 7 9 0 2 2 8 9 7\n",
            " 6 1 0 2 3 8 7 9 3 4 8 7 3 8 4 6 9 1 4 6 9 7 5 4 0 2 7 1 7 2 8 8 1 6 8 6 8\n",
            " 7 3 1 8 9 9 8 1 0 8 5 8 2 3 1 0 7 7 1 8 0 9 2 7 7 8 8 4 3 3 4 5 6 6 2 7 8\n",
            " 5 8 4 2 5 4 3 9 1 9 0 9 2 6 3 0 9 2 3 0 3 0 4 9 5 9 8 9 6 0 7 5 3 9 3 6 5\n",
            " 6 3 8 7 5 9 4 2 6 1 2 0 1 6 6 0 8 7 2 2 5 9 0 3 0 8 4 8 4 4 2 2 8 9 0 9 3\n",
            " 7 7 0 2 6 5 2 2 4 1 5 8 4 5 4 7 0 4 5 9 1 6 1 6 6 4 3 3 3 9 2 4 3 8 6 1 7\n",
            " 9]\n",
            "Dev set accuracy:  0.689\n"
          ]
        }
      ]
    }
  ]
}